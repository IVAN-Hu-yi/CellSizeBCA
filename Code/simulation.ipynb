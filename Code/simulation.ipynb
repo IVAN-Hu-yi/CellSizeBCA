{
 "cells": [
  {
   "cell_type": "code",
   "execution_count": 2,
   "metadata": {},
   "outputs": [],
   "source": [
    "%matplotlib inline\n",
    "import numpy as np\n",
    "from scipy.integrate import solve_ivp\n",
    "from parametres import Paras\n",
    "from utilities import *\n",
    "from initialisation import *\n",
    "from odes import odes_scale_size\n",
    "import matplotlib.pyplot as plt\n",
    "from size_scaled_func import *\n",
    "import datetime as dt\n",
    "from simulation_func import *\n",
    "import pandas as pd\n",
    "import pickle as pkl\n",
    "import os"
   ]
  },
  {
   "attachments": {},
   "cell_type": "markdown",
   "metadata": {},
   "source": [
    "# Running the Simulations"
   ]
  },
  {
   "attachments": {},
   "cell_type": "markdown",
   "metadata": {},
   "source": [
    "\n",
    "- Setting 25 species, 50 resources\n",
    "- 100 simulations were performed"
   ]
  },
  {
   "cell_type": "code",
   "execution_count": 3,
   "metadata": {},
   "outputs": [],
   "source": [
    "# Setting parametres\n",
    "N = 100\n",
    "M = 50\n",
    "#assemblenum = 1\n",
    "para = Paras(N, M)\n",
    "assemblies = 30"
   ]
  },
  {
   "cell_type": "code",
   "execution_count": 4,
   "metadata": {},
   "outputs": [],
   "source": [
    "Rt_assemblies = []\n",
    "Ct_assemblies = []\n",
    "time_assemblies = []\n",
    "para_assemblies = []"
   ]
  },
  {
   "cell_type": "code",
   "execution_count": 5,
   "metadata": {},
   "outputs": [
    {
     "name": "stdout",
     "output_type": "stream",
     "text": [
      "Asembly 1 complete, runtime:0:00:18.646561\n"
     ]
    }
   ],
   "source": [
    "# Run simulation\n",
    "start = dt.datetime.now()\n",
    "for i in range(assemblies):\n",
    "    Rt, Ct, t, para = sim_run(N, M, para, i, tstop=10e6, teval=1000)\n",
    "    Rt_assemblies.append(Rt)\n",
    "    Ct_assemblies.append(Ct)\n",
    "    para_assemblies.append(para)\n",
    "    time_assemblies.append(t)\n",
    "    print(f'Asembly {i+1} complete, runtime:{dt.datetime.now()-start}') if (i+1) %5==0 else None"
   ]
  },
  {
   "attachments": {},
   "cell_type": "markdown",
   "metadata": {},
   "source": [
    "## Store the data\n",
    "\n",
    "- Each Assembly will be stored in a dir called 'Abl_n' containing four files:\n",
    "    - Resource concentration -- Abl_n_Rt.npy\n",
    "    - Biomass concentration -- Abl_n_Ct.npy\n",
    "    - Parametre -- Abl_n_Para.pkl\n",
    "    - Time_series -- Abl_n_t.npy"
   ]
  },
  {
   "cell_type": "code",
   "execution_count": 8,
   "metadata": {},
   "outputs": [],
   "source": [
    "if not os.path.exists('..\\Data\\-25_beta'):\n",
    "    os.makedirs('..\\Data\\-25_beta')\n",
    "for i in range(1, len(Ct_assemblies)+1):\n",
    "\n",
    "    dir = f'..\\Data\\-25_beta\\Abl_{i}'\n",
    "    if not os.path.exists(dir):\n",
    "        os.makedirs(dir) \n",
    "\n",
    "    with open(dir + f'\\Abl_{i}_Ct.npy', 'wb') as f:\n",
    "        np.save(f, Ct_assemblies[i-1])\n",
    "    f.close()\n",
    "\n",
    "    with open(dir + f'\\Abl_{i}_Rt.npy', 'wb') as f:\n",
    "        np.save(f, Rt_assemblies[i-1])\n",
    "    f.close()\n",
    "\n",
    "    with open(dir + f'\\Abl_{i}_t.npy', 'wb') as f:\n",
    "        np.save(f, time_assemblies[i-1])\n",
    "    f.close()\n",
    "\n",
    "    with open(dir + f'\\Abl_{i}_Para.pkl', 'wb') as f:\n",
    "        pkl.dump(para_assemblies[i-1], f)\n",
    "    f.close()"
   ]
  },
  {
   "attachments": {},
   "cell_type": "markdown",
   "metadata": {},
   "source": [
    "# Analysis"
   ]
  },
  {
   "attachments": {},
   "cell_type": "markdown",
   "metadata": {},
   "source": [
    "## Plot final abundance for each assembly and species\n",
    "- Choose S communities\n",
    "- S= 5"
   ]
  },
  {
   "cell_type": "code",
   "execution_count": null,
   "metadata": {},
   "outputs": [],
   "source": [
    "import matplotlib.pyplot as plt\n",
    "import seaborn as sns"
   ]
  },
  {
   "cell_type": "code",
   "execution_count": null,
   "metadata": {},
   "outputs": [],
   "source": [
    "S = 5"
   ]
  },
  {
   "cell_type": "code",
   "execution_count": null,
   "metadata": {},
   "outputs": [],
   "source": [
    "C5 = Ct_assemblies[0:S]\n",
    "abundance25 = np.empty((N, S))\n",
    "for i, assembly in enumerate(C5):\n",
    "    abundance25[:, i] = assembly[:, -1]\n",
    "abundance25 = abundance25/np.sum(abundance25, axis=0)"
   ]
  },
  {
   "cell_type": "code",
   "execution_count": null,
   "metadata": {},
   "outputs": [],
   "source": [
    "plt.figure(figsize=(6, 6), dpi=300)\n",
    "sns.heatmap(abundance25, cmap=sns.cubehelix_palette(as_cmap=True)\n",
    ", xticklabels=False, yticklabels=False)\n",
    "plt.ylabel('Species')\n",
    "plt.xlabel('Simulations')"
   ]
  },
  {
   "cell_type": "code",
   "execution_count": null,
   "metadata": {},
   "outputs": [],
   "source": [
    "plt.figure(figsize=(6, 6), dpi=300)\n",
    "sns.heatmap(para_assemblies[0].p, cmap=sns.cubehelix_palette(as_cmap=True)\n",
    ", xticklabels=False, yticklabels=False)\n",
    "plt.ylabel('Species')\n",
    "plt.xlabel('Resource Type')"
   ]
  },
  {
   "cell_type": "code",
   "execution_count": null,
   "metadata": {},
   "outputs": [],
   "source": [
    "plt.figure(figsize=(6, 6), dpi=300)\n",
    "sns.heatmap(para_assemblies[0].D, cmap=sns.cubehelix_palette(as_cmap=True)\n",
    ", xticklabels=False, yticklabels=False)\n",
    "plt.ylabel('Input Resource')\n",
    "plt.xlabel('Output Resource')"
   ]
  },
  {
   "attachments": {},
   "cell_type": "markdown",
   "metadata": {},
   "source": [
    "### Ploting relative abundance v.s. size\n"
   ]
  },
  {
   "attachments": {},
   "cell_type": "markdown",
   "metadata": {},
   "source": [
    "### Plotting biomass distirbution at initial time and final time"
   ]
  },
  {
   "cell_type": "code",
   "execution_count": null,
   "metadata": {},
   "outputs": [],
   "source": [
    "# Extract the initial and final data\n",
    "initial = np.full((N*assemlies), 1)\n",
    "final = np.full((N*assemlies), 1)\n",
    "for i in range(assemlies):\n",
    "    model = para_assemblies[i]\n",
    "    initial[i*N:(i+1)*N] = model.C.flatten()\n",
    "    mass = Ct_assemblies[i]\n",
    "    final[i*N:(i+1)*N] = mass[:, -1]"
   ]
  },
  {
   "cell_type": "code",
   "execution_count": null,
   "metadata": {},
   "outputs": [],
   "source": [
    "# Plot \n",
    "plt.figure(figsize=(6, 6), dpi=300)\n",
    "sns.histplot(\n",
    "    np.log10(final), label='Final', color='#456B5C', \n",
    "    bins=30, alpha=0.4,\n",
    "    edgecolor='white')\n",
    "sns.histplot(np.log10(initial), label='Initial', color='grey', \n",
    "             bins=30, alpha=0.4,\n",
    "             edgecolor='white')\n",
    "plt.legend()\n",
    "plt.xlabel('log10(C)')\n",
    "sns.despine(offset=10, trim=True)"
   ]
  },
  {
   "cell_type": "code",
   "execution_count": null,
   "metadata": {},
   "outputs": [],
   "source": [
    "species1vg = []\n",
    "m1 = []\n",
    "for i in range(len(t)):\n",
    "    resourcet = Rt[:, i].reshape(M, 1)\n",
    "    masst = Ct[:, i].reshape(N, 1)\n",
    "    v_in = vin(para.p, resourcet, para.R_half, vmax=para.v_in_max, type=2)\n",
    "    v_in = scale_vin(v_in, masst, para.B0, para.alpha)\n",
    "    v_g = vgrow(v_in, para.l)\n",
    "    # v_g = scale_vgrow(v_g, masst, para.B0, para.alpha)\n",
    "    v_g = v_g * masst\n",
    "    species1vg.append(v_g[1])\n",
    "    m_scale = scale_mt(para.m, masst, para.M0, para.alpha)\n",
    "    m_scale = m_scale * masst\n",
    "    m1.append(m_scale[1])\n"
   ]
  },
  {
   "cell_type": "code",
   "execution_count": null,
   "metadata": {},
   "outputs": [],
   "source": [
    "plt.figure(figsize=(6, 6), dpi=300)\n",
    "plt.plot(t[0:700], species1vg[0:700], label = 'vgrow')\n",
    "plt.plot(t, m1, label='maintainence')\n",
    "plt.legend()\n",
    "plt.ylabel('Mass/Time')\n",
    "plt.xlabel('Time')\n",
    "sns.despine(offset=10, trim=True)"
   ]
  },
  {
   "attachments": {},
   "cell_type": "markdown",
   "metadata": {},
   "source": [
    "### Relative abundance distribution at Final Time"
   ]
  },
  {
   "cell_type": "code",
   "execution_count": null,
   "metadata": {},
   "outputs": [],
   "source": [
    "spec_name = np.array([f'species {i}' for i in range(1, N+1)])\n",
    "# df = pd.DataFrame({\n",
    "#     'C':0,\n",
    "#     'Species': 'Species 1'\n",
    "# })\n",
    "l = []\n",
    "for i, item in enumerate(Ct_assemblies):\n",
    "    temp = pd.DataFrame({'C':item[:, -1], 'Species': spec_name})\n",
    "    l.append(temp)\n",
    "result = pd.concat(l)\n",
    "result.index = np.arange(len(result.iloc[:, 0]))"
   ]
  },
  {
   "cell_type": "code",
   "execution_count": null,
   "metadata": {},
   "outputs": [],
   "source": [
    "# biomass\n",
    "plt.figure(figsize=(15, 15), dpi=500)\n",
    "ax = sns.displot(\n",
    "    data=result,\n",
    "    x=np.log10(result['C']), hue=\"Species\",\n",
    "    kind=\"kde\", height=6,\n",
    "    multiple=\"fill\", clip=(0, None),\n",
    "    palette=sns.color_palette(\"rocket\", N),\n",
    "    edgecolor='white'\n",
    ")\n",
    "\n",
    "# sns.move_legend(ax, loc='right', bbox_to_anchor=(0, 0.5), ncol=2)\n",
    "# plt.tight_layout()\n",
    "plt.xlabel('log10(C)')\n",
    "sns.despine(offset=10, trim=True)\n"
   ]
  },
  {
   "cell_type": "code",
   "execution_count": null,
   "metadata": {},
   "outputs": [],
   "source": [
    "# biomass\n",
    "plt.figure(figsize=(6, 6), dpi=300)\n",
    "ax = sns.displot(\n",
    "    data=result,\n",
    "    x=np.log10(result['C']), hue=\"Species\",\n",
    "    kind=\"kde\", height=6,\n",
    "    multiple=\"stack\", clip=(0, None),\n",
    "    palette=sns.color_palette(\"rocket\", N),\n",
    "    edgecolor='white'\n",
    ")\n",
    "plt.xlabel('log10(C)')\n",
    "# sns.move_legend(ax, loc='right', bbox_to_anchor=(0, 0.5), ncol=2)\n",
    "# plt.tight_layout()\n",
    "sns.despine(offset=10, trim=True)"
   ]
  },
  {
   "cell_type": "code",
   "execution_count": null,
   "metadata": {},
   "outputs": [],
   "source": [
    "spec_name = np.array([f'species {i}' for i in range(1, N+1)])\n",
    "# df = pd.DataFrame({\n",
    "#     'C':0,\n",
    "#     'Species': 'Species 1'\n",
    "# })\n",
    "l2 = []\n",
    "for i, item in enumerate(Ct_assemblies):\n",
    "    temp = pd.DataFrame({'ad':item[:, -1]/np.sum(item[:, -1]), 'Species': spec_name})\n",
    "    l2.append(temp)\n",
    "result2 = pd.concat(l2)\n",
    "result2.index = np.arange(len(result2.iloc[:, 0]))"
   ]
  },
  {
   "cell_type": "code",
   "execution_count": null,
   "metadata": {},
   "outputs": [],
   "source": [
    "# biomass\n",
    "plt.figure(figsize=(10, 10), dpi=300)\n",
    "sns.displot(\n",
    "    data=result2,\n",
    "    x='ad', hue=\"Species\",\n",
    "    kind=\"kde\", height=6,\n",
    "    multiple=\"stack\", clip=(0, None),\n",
    "    palette=sns.color_palette(\"rocket\", N),\n",
    "    edgecolor='white'\n",
    ")\n",
    "plt.xlabel('Relative Abundance')\n",
    "sns.despine(offset=10, trim=True)\n",
    "# sns.move_legend(ax, loc='right', bbox_to_anchor=(0, 0.5), ncol=2)\n",
    "# plt.tight_layout()"
   ]
  },
  {
   "cell_type": "code",
   "execution_count": null,
   "metadata": {},
   "outputs": [],
   "source": [
    "# biomass\n",
    "plt.figure(figsize=(6, 6), dpi=300)\n",
    "sns.displot(\n",
    "    data=result2,\n",
    "    x='ad', hue=\"Species\",\n",
    "    kind=\"kde\", height=6,\n",
    "    multiple=\"fill\", clip=(0, None),\n",
    "    palette=sns.color_palette(\"rocket\", N),\n",
    "    edgecolor='white'\n",
    ")\n",
    "plt.xlabel('Relative Abundance')\n",
    "sns.despine(offset=10, trim=True)"
   ]
  },
  {
   "attachments": {},
   "cell_type": "markdown",
   "metadata": {},
   "source": [
    "## Visualise population trajectories\n",
    "\n",
    "- Starts with absolute biomass\n",
    "- Then Abundance"
   ]
  },
  {
   "cell_type": "code",
   "execution_count": null,
   "metadata": {},
   "outputs": [],
   "source": [
    "specn = 6"
   ]
  },
  {
   "cell_type": "code",
   "execution_count": null,
   "metadata": {},
   "outputs": [],
   "source": [
    "# Choose a representative assembly\n",
    "repr_Ct = Ct_assemblies[specn]\n",
    "repr_t = time_assemblies[specn]\n",
    "repr_Rt = Rt_assemblies[specn]"
   ]
  },
  {
   "cell_type": "code",
   "execution_count": null,
   "metadata": {},
   "outputs": [],
   "source": [
    "repr_Rt.shape"
   ]
  },
  {
   "cell_type": "code",
   "execution_count": null,
   "metadata": {},
   "outputs": [],
   "source": [
    "# plot species biomass trajectories\n",
    "plt.figure(figsize=(6, 6), dpi=300)\n",
    "for i in range(para.M):\n",
    "    sns.lineplot(x=repr_t, y=repr_Rt[i, :])\n",
    "plt.xlabel('Time')\n",
    "plt.ylabel('Resource content')\n",
    "sns.despine(offset=10, trim=True)"
   ]
  },
  {
   "cell_type": "code",
   "execution_count": null,
   "metadata": {},
   "outputs": [],
   "source": [
    "# plot species biomass trajectories\n",
    "\n",
    "plt.figure(figsize=(6, 6), dpi=300)\n",
    "for i in range(N):\n",
    "    sns.lineplot(x=np.log10(repr_t), y=repr_Ct[i, :], color='grey', alpha=0.3)\n",
    "plt.xlabel('Time')\n",
    "plt.ylabel('Absolute biomass')\n",
    "sns.despine(offset=10, trim=True)"
   ]
  },
  {
   "cell_type": "code",
   "execution_count": null,
   "metadata": {},
   "outputs": [],
   "source": [
    "# plot species abudance trajectories\n",
    "np.seterr(divide = 'ignore')\n",
    "plt.figure(figsize=(6, 6), dpi=300)\n",
    "for i in range(N):\n",
    "    sns.lineplot(x=np.log10(repr_t), y=relative_abundance(repr_Ct)[i, :]*100,color='grey', alpha=0.3)\n",
    "plt.xlabel('Time')\n",
    "plt.ylabel('relative abundance (%)')\n",
    "sns.despine(offset=10, trim=True)"
   ]
  },
  {
   "cell_type": "code",
   "execution_count": null,
   "metadata": {},
   "outputs": [],
   "source": [
    "a = relative_abundance(repr_Ct)[:, -1]*100\n",
    "b = relative_abundance(Ct_assemblies[1])[:, -1]*100"
   ]
  },
  {
   "cell_type": "code",
   "execution_count": null,
   "metadata": {},
   "outputs": [],
   "source": [
    "np.dot(a/np.linalg.norm(a), b/np.linalg.norm(b))"
   ]
  },
  {
   "attachments": {},
   "cell_type": "markdown",
   "metadata": {},
   "source": [
    "## Create Association matricies"
   ]
  },
  {
   "attachments": {},
   "cell_type": "markdown",
   "metadata": {},
   "source": [
    "- Given the nature of Non-linear dynamics of relative abundance, pairwise spearman's correlation is used for create association matricies\n",
    "- Starts with one assemblies first\n",
    "- Select a time window, w, for correlation, w=100\n",
    "    - with a stride s = 5\n",
    "    - ranging from t=0 to t=2000\n",
    "- Correlation matrix for one assemblies\n",
    "    - $N \\times N \\times [(100/5)*(2000/100)]$"
   ]
  },
  {
   "cell_type": "code",
   "execution_count": null,
   "metadata": {},
   "outputs": [],
   "source": [
    "from scipy.stats import spearmanr\n",
    "from scipy.stats import permutation_test"
   ]
  },
  {
   "cell_type": "code",
   "execution_count": null,
   "metadata": {},
   "outputs": [],
   "source": [
    "# extract assemblies time series\n",
    "cdata = Ct_assemblies[1]\n",
    "cdata = cdata[:, 0:5000]\n",
    "cdata.shape"
   ]
  },
  {
   "cell_type": "code",
   "execution_count": null,
   "metadata": {},
   "outputs": [],
   "source": [
    "M, p = pairwise_spearmanr(cdata[:,0:100])"
   ]
  },
  {
   "cell_type": "code",
   "execution_count": null,
   "metadata": {},
   "outputs": [],
   "source": [
    "plt.figure(figsize=(6, 6), dpi=300)\n",
    "sns.heatmap(M, cmap=sns.cubehelix_palette(as_cmap=True)\n",
    ", xticklabels=False, yticklabels=False)\n",
    "plt.ylabel('Species')\n",
    "plt.xlabel('Species')"
   ]
  },
  {
   "cell_type": "code",
   "execution_count": null,
   "metadata": {},
   "outputs": [],
   "source": [
    "seriesM, seriesP = assocation_series(cdata, w=100, s=5, tstarts=0, tstop=2000)"
   ]
  },
  {
   "attachments": {},
   "cell_type": "markdown",
   "metadata": {},
   "source": [
    "## Network Analysis"
   ]
  },
  {
   "cell_type": "code",
   "execution_count": null,
   "metadata": {},
   "outputs": [],
   "source": [
    "import networkx as nx\n",
    "import matplotlib as mpl"
   ]
  },
  {
   "cell_type": "code",
   "execution_count": null,
   "metadata": {},
   "outputs": [],
   "source": [
    "%matplotlib"
   ]
  },
  {
   "attachments": {},
   "cell_type": "markdown",
   "metadata": {},
   "source": [
    "- Graphs generation"
   ]
  },
  {
   "cell_type": "code",
   "execution_count": null,
   "metadata": {},
   "outputs": [],
   "source": [
    "def make_graphs(series):\n",
    "    G_list = []\n",
    "    for i in range(len(series[0, 0, :])):\n",
    "        temp = series[:, :, i]\n",
    "        temp[np.isnan(series[:, :, i])] = 0\n",
    "        G_list.append(nx.from_numpy_array(temp, ))\n",
    "    return G_list"
   ]
  },
  {
   "cell_type": "code",
   "execution_count": null,
   "metadata": {},
   "outputs": [],
   "source": [
    "Glist = make_graphs(seriesM)"
   ]
  },
  {
   "cell_type": "code",
   "execution_count": null,
   "metadata": {},
   "outputs": [],
   "source": [
    "G = Glist[156]\n",
    "plt.figure(figsize=(6, 6), dpi=600)\n",
    "widths = nx.get_edge_attributes(G, 'weight')\n",
    "layout = nx.spring_layout(G, seed=7)\n",
    "edges,weights = zip(*nx.get_edge_attributes(G,'weight').items())\n",
    "options = {\n",
    "        'node_size': 10,\n",
    "        'edgelist': edges,\n",
    "        'edge_color':weights,\n",
    "        'alpha': 0.4,\n",
    "        \"width\": list(widths.values()),\n",
    "        \"edge_cmap\": plt.cm.Blues,\n",
    "        'edge_vmin': -1, \n",
    "        'edge_vmax': 1\n",
    "}\n",
    "edges,weights = zip(*nx.get_edge_attributes(G,'weight').items())\n",
    "nx.draw(G, layout, **options)\n",
    "\n",
    "plt.box(False)"
   ]
  },
  {
   "cell_type": "code",
   "execution_count": null,
   "metadata": {},
   "outputs": [],
   "source": [
    "from community import community_louvain\n",
    "import matplotlib.cm as cm"
   ]
  },
  {
   "cell_type": "code",
   "execution_count": null,
   "metadata": {},
   "outputs": [],
   "source": [
    "seriesM.shape"
   ]
  },
  {
   "cell_type": "code",
   "execution_count": null,
   "metadata": {},
   "outputs": [],
   "source": [
    "def plot_partition_graph(series, t):\n",
    "    plt.figure(figsize=(6, 6), dpi=600)\n",
    "    G = nx.from_numpy_array(series[:, :, t])\n",
    "    widths = nx.get_edge_attributes(G, 'weight')\n",
    "    partition = community_louvain.best_partition(G)\n",
    "    layout = nx.spring_layout(G, seed=7)\n",
    "    cmap = cm.get_cmap('viridis', max(partition.values()) + 1)\n",
    "    nx.draw_networkx_nodes(\n",
    "        G, layout, partition.keys(), node_size=10, cmap=cmap, node_color=list(partition.values()))\n",
    "    nx.draw_networkx_edges(G, layout, alpha=0.1, width=list(widths.values()))\n",
    "    plt.box(False)"
   ]
  },
  {
   "cell_type": "code",
   "execution_count": null,
   "metadata": {},
   "outputs": [],
   "source": [
    "def plot_graph_series(series, tstarts, tstop):\n",
    "    for i in range(tstarts, tstop):\n",
    "        plt.figure(figsize=(6, 6), dpi=600)\n",
    "        G = nx.from_numpy_array(series[:, :, i])\n",
    "        widths = nx.get_edge_attributes(G, 'weight')\n",
    "        partition = community_louvain.best_partition(G)\n",
    "        layout = nx.spring_layout(G, seed=7)\n",
    "        cmap = cm.get_cmap('viridis', max(partition.values()) + 1)\n",
    "        nx.draw_networkx_nodes(\n",
    "            G, layout, partition.keys(), node_size=10, cmap=cmap, node_color=list(partition.values()))\n",
    "        nx.draw_networkx_edges(G, layout, alpha=0.1, width=list(widths.values()))\n",
    "        plt.box(False)"
   ]
  },
  {
   "attachments": {},
   "cell_type": "markdown",
   "metadata": {},
   "source": [
    "## Investigating Abundance State Profiles"
   ]
  },
  {
   "attachments": {},
   "cell_type": "markdown",
   "metadata": {},
   "source": [
    "- Using Isomap for visualising the trajectories for each assemblies by setting\n",
    "    - embedding sepecies abundance maybe in 3 dimension\n",
    "    - track the trajectories of state profiles and plot\n",
    "    - should converge to the same point"
   ]
  },
  {
   "cell_type": "code",
   "execution_count": null,
   "metadata": {},
   "outputs": [],
   "source": [
    "from sklearn.manifold import Isomap\n"
   ]
  },
  {
   "cell_type": "code",
   "execution_count": null,
   "metadata": {},
   "outputs": [],
   "source": [
    "# extract data\n",
    "datamat = extract_Ct_multiple(Ct_assemblies)"
   ]
  },
  {
   "cell_type": "code",
   "execution_count": null,
   "metadata": {},
   "outputs": [],
   "source": [
    "nsample = 20"
   ]
  },
  {
   "cell_type": "code",
   "execution_count": null,
   "metadata": {},
   "outputs": [],
   "source": [
    "embseries_val = np.empty((nsample, 3, 2000))\n",
    "embseries_error = np.empty((nsample, 3, 2000))\n",
    "for i in range(len(datamat[0, 0:2000, 0])):\n",
    "    model = Isomap(n_components=3, n_neighbors=2) # initialised model\n",
    "    temp = datamat[:, i, 0:nsample].T\n",
    "    embseries_val[:, :, i] = model.fit_transform(temp)\n",
    "    embseries_error[:, :, i] = model.reconstruction_error()"
   ]
  },
  {
   "cell_type": "code",
   "execution_count": null,
   "metadata": {},
   "outputs": [],
   "source": [
    "# get ready for 3D plot\n",
    "# we need time series of x, y, z for one example\n",
    "x, y, z = np.empty((2000, nsample)), np.empty((2000, nsample)), np.empty((2000, nsample))\n",
    "\n",
    "for i in range(nsample):\n",
    "    x[:, i], y[:, i], z[:, i] = embseries_val[i, 0, :].T, embseries_val[i, 1, :].T, embseries_val[i, 2, :].T\n"
   ]
  },
  {
   "attachments": {},
   "cell_type": "markdown",
   "metadata": {},
   "source": [
    "#### Plotting trajectories"
   ]
  },
  {
   "cell_type": "code",
   "execution_count": null,
   "metadata": {},
   "outputs": [],
   "source": [
    "# plt.figure(figsize=(14, 14), dpi=100)\n",
    "ax = plt.axes(projection='3d')\n",
    "for i in range(nsample):\n",
    "    ax.plot3D(x[:, i], y[:, i], z[:, i])\n",
    "    ax.text(x[0, i], y[0, i], z[0, i], s='start')\n",
    "    ax.text(x[-1, i], y[-1, i], z[-1, i], s='end')\n",
    "    # rotate the axes and update\n",
    "for angle in range(0, 360):\n",
    "    ax.view_init(30, 40)\n",
    "sns.despine()"
   ]
  },
  {
   "cell_type": "code",
   "execution_count": null,
   "metadata": {},
   "outputs": [],
   "source": []
  }
 ],
 "metadata": {
  "kernelspec": {
   "display_name": "fyp",
   "language": "python",
   "name": "python3"
  },
  "language_info": {
   "codemirror_mode": {
    "name": "ipython",
    "version": 3
   },
   "file_extension": ".py",
   "mimetype": "text/x-python",
   "name": "python",
   "nbconvert_exporter": "python",
   "pygments_lexer": "ipython3",
   "version": "3.10.9"
  },
  "orig_nbformat": 4
 },
 "nbformat": 4,
 "nbformat_minor": 2
}
