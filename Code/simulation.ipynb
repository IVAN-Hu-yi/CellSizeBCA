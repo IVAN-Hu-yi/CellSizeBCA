{
 "cells": [
  {
   "cell_type": "code",
   "execution_count": 1,
   "metadata": {},
   "outputs": [],
   "source": [
    "import numpy as np\n",
    "from scipy.integrate import odeint\n",
    "from parametres import Paras\n",
    "from utilities import *\n",
    "from initialisation import *\n",
    "from odes import *\n",
    "import matplotlib.pyplot as plt"
   ]
  },
  {
   "attachments": {},
   "cell_type": "markdown",
   "metadata": {},
   "source": [
    "Initialisation of parametres"
   ]
  },
  {
   "cell_type": "code",
   "execution_count": 2,
   "metadata": {},
   "outputs": [],
   "source": [
    "N = 10\n",
    "M = 50\n",
    "assemblenum = 1 # number of assembly\n",
    "\n",
    "### initialised parametres\n",
    "para = Paras(N, M)\n",
    "p, number = int_preferences(N, M, para.mu_c, assemblenum)\n",
    "D = int_conversion(M, para.Dbase, assemblenum)\n",
    "l = int_l(M, para.l_base, assemblenum)\n",
    "rho = int_rho(M, para.rho_base, assemblenum)\n",
    "vmax = int_vmax(N, M, para.v_max_base, p, number, assemblenum)\n",
    "m = int_mt(N, para.m_base, assemblenum)\n",
    "\n",
    "## Initialised Initial conditions\n",
    "R0 = int_R(M, para.R0, assemblenum)\n",
    "C0 = int_C(N, para.w, assemblenum)\n",
    "\n",
    "# Load parametres\n",
    "para.paras(C0, R0, l, rho, p, vmax, m, D)\n",
    "time = np.linspace(0, 1000, 100000)"
   ]
  },
  {
   "cell_type": "code",
   "execution_count": 3,
   "metadata": {},
   "outputs": [
    {
     "ename": "ValueError",
     "evalue": "setting an array element with a sequence. The requested array has an inhomogeneous shape after 1 dimensions. The detected shape was (2,) + inhomogeneous part.",
     "output_type": "error",
     "traceback": [
      "\u001b[1;31m---------------------------------------------------------------------------\u001b[0m",
      "\u001b[1;31mValueError\u001b[0m                                Traceback (most recent call last)",
      "\u001b[1;32mf:\\Study\\FYP\\CellSizeBCA\\Code\\simulation.ipynb Cell 4\u001b[0m in \u001b[0;36m<cell line: 1>\u001b[1;34m()\u001b[0m\n\u001b[1;32m----> <a href='vscode-notebook-cell:/f%3A/Study/FYP/CellSizeBCA/Code/simulation.ipynb#W5sZmlsZQ%3D%3D?line=0'>1</a>\u001b[0m result \u001b[39m=\u001b[39m odeint(\n\u001b[0;32m      <a href='vscode-notebook-cell:/f%3A/Study/FYP/CellSizeBCA/Code/simulation.ipynb#W5sZmlsZQ%3D%3D?line=1'>2</a>\u001b[0m     odes_scale_size, (C0, R0), time, \n\u001b[0;32m      <a href='vscode-notebook-cell:/f%3A/Study/FYP/CellSizeBCA/Code/simulation.ipynb#W5sZmlsZQ%3D%3D?line=2'>3</a>\u001b[0m     (para\u001b[39m.\u001b[39;49ml, para\u001b[39m.\u001b[39;49mm, para\u001b[39m.\u001b[39;49mrho, para\u001b[39m.\u001b[39;49mkm, para\u001b[39m.\u001b[39;49mp, para\u001b[39m.\u001b[39;49mD, \n\u001b[0;32m      <a href='vscode-notebook-cell:/f%3A/Study/FYP/CellSizeBCA/Code/simulation.ipynb#W5sZmlsZQ%3D%3D?line=3'>4</a>\u001b[0m      para\u001b[39m.\u001b[39;49mtype, para\u001b[39m.\u001b[39;49mB0, para\u001b[39m.\u001b[39;49mM0, para\u001b[39m.\u001b[39;49mE0, para\u001b[39m.\u001b[39;49malpha, para\u001b[39m.\u001b[39;49mgamma)\n\u001b[0;32m      <a href='vscode-notebook-cell:/f%3A/Study/FYP/CellSizeBCA/Code/simulation.ipynb#W5sZmlsZQ%3D%3D?line=4'>5</a>\u001b[0m     )\n",
      "File \u001b[1;32mf:\\Anaconda3\\envs\\fyp\\lib\\site-packages\\scipy\\integrate\\_odepack_py.py:242\u001b[0m, in \u001b[0;36modeint\u001b[1;34m(func, y0, t, args, Dfun, col_deriv, full_output, ml, mu, rtol, atol, tcrit, h0, hmax, hmin, ixpr, mxstep, mxhnil, mxordn, mxords, printmessg, tfirst)\u001b[0m\n\u001b[0;32m    240\u001b[0m t \u001b[39m=\u001b[39m copy(t)\n\u001b[0;32m    241\u001b[0m y0 \u001b[39m=\u001b[39m copy(y0)\n\u001b[1;32m--> 242\u001b[0m output \u001b[39m=\u001b[39m _odepack\u001b[39m.\u001b[39;49modeint(func, y0, t, args, Dfun, col_deriv, ml, mu,\n\u001b[0;32m    243\u001b[0m                          full_output, rtol, atol, tcrit, h0, hmax, hmin,\n\u001b[0;32m    244\u001b[0m                          ixpr, mxstep, mxhnil, mxordn, mxords,\n\u001b[0;32m    245\u001b[0m                          \u001b[39mint\u001b[39;49m(\u001b[39mbool\u001b[39;49m(tfirst)))\n\u001b[0;32m    246\u001b[0m \u001b[39mif\u001b[39;00m output[\u001b[39m-\u001b[39m\u001b[39m1\u001b[39m] \u001b[39m<\u001b[39m \u001b[39m0\u001b[39m:\n\u001b[0;32m    247\u001b[0m     warning_msg \u001b[39m=\u001b[39m _msgs[output[\u001b[39m-\u001b[39m\u001b[39m1\u001b[39m]] \u001b[39m+\u001b[39m \u001b[39m\"\u001b[39m\u001b[39m Run with full_output = 1 to get quantitative information.\u001b[39m\u001b[39m\"\u001b[39m\n",
      "\u001b[1;31mValueError\u001b[0m: setting an array element with a sequence. The requested array has an inhomogeneous shape after 1 dimensions. The detected shape was (2,) + inhomogeneous part."
     ]
    }
   ],
   "source": [
    "result = odeint(\n",
    "    odes_scale_size, (C0, R0), time, \n",
    "    (para.l, para.m, para.rho, para.km, para.p, para.D, \n",
    "     para.type, para.B0, para.M0, para.E0, para.alpha, para.gamma)\n",
    "    )"
   ]
  },
  {
   "cell_type": "code",
   "execution_count": 5,
   "metadata": {},
   "outputs": [
    {
     "name": "stdout",
     "output_type": "stream",
     "text": [
      "(10, 10, 1)\n",
      "(10, 10, 50)\n",
      "(10, 10, 50)\n"
     ]
    },
    {
     "ename": "ValueError",
     "evalue": "operands could not be broadcast together with shapes (50,1) (50,10,1) ",
     "output_type": "error",
     "traceback": [
      "\u001b[1;31m---------------------------------------------------------------------------\u001b[0m",
      "\u001b[1;31mValueError\u001b[0m                                Traceback (most recent call last)",
      "\u001b[1;32mf:\\Study\\FYP\\CellSizeBCA\\Code\\simulation.ipynb Cell 5\u001b[0m in \u001b[0;36m<cell line: 1>\u001b[1;34m()\u001b[0m\n\u001b[1;32m----> <a href='vscode-notebook-cell:/f%3A/Study/FYP/CellSizeBCA/Code/simulation.ipynb#X12sZmlsZQ%3D%3D?line=0'>1</a>\u001b[0m odes_scale_size([R0, C0], \u001b[39m0\u001b[39;49m, para\u001b[39m.\u001b[39;49ml, para\u001b[39m.\u001b[39;49mm, para\u001b[39m.\u001b[39;49mrho, para\u001b[39m.\u001b[39;49mmu, para\u001b[39m.\u001b[39;49mkm, para\u001b[39m.\u001b[39;49mp, para\u001b[39m.\u001b[39;49mD, para\u001b[39m.\u001b[39;49mv_in_max,\n\u001b[0;32m      <a href='vscode-notebook-cell:/f%3A/Study/FYP/CellSizeBCA/Code/simulation.ipynb#X12sZmlsZQ%3D%3D?line=1'>2</a>\u001b[0m      para\u001b[39m.\u001b[39;49mtype, para\u001b[39m.\u001b[39;49mB0, para\u001b[39m.\u001b[39;49mM0, para\u001b[39m.\u001b[39;49mE0, para\u001b[39m.\u001b[39;49malpha, para\u001b[39m.\u001b[39;49mgamma, para\u001b[39m.\u001b[39;49mR_half)\n",
      "File \u001b[1;32mf:\\Study\\FYP\\CellSizeBCA\\Code\\odes.py:74\u001b[0m, in \u001b[0;36modes_scale_size\u001b[1;34m(y, t, l, m, rho, mu, km, p, D, vmax, type, B0, M0, E0, alpha, gamma, Rhalf)\u001b[0m\n\u001b[0;32m     71\u001b[0m vdiff \u001b[39m=\u001b[39m v_out \u001b[39m-\u001b[39m v_in\n\u001b[0;32m     72\u001b[0m m_scale \u001b[39m=\u001b[39m scale_mt(m, C, M0, alpha)\n\u001b[1;32m---> 74\u001b[0m \u001b[39mreturn\u001b[39;00m [mu\u001b[39m*\u001b[39mC\u001b[39m*\u001b[39m(v_grow\u001b[39m-\u001b[39mm_scale), rho\u001b[39m+\u001b[39;49mkm\u001b[39m*\u001b[39;49m(vdiff\u001b[39m.\u001b[39;49mT \u001b[39m@\u001b[39;49m C)]\n",
      "\u001b[1;31mValueError\u001b[0m: operands could not be broadcast together with shapes (50,1) (50,10,1) "
     ]
    }
   ],
   "source": [
    "odes_scale_size([R0, C0], 0, para.l, para.m, para.rho, para.mu, para.km, para.p, para.D, para.v_in_max,\n",
    "     para.type, para.B0, para.M0, para.E0, para.alpha, para.gamma, para.R_half)"
   ]
  },
  {
   "cell_type": "code",
   "execution_count": null,
   "metadata": {},
   "outputs": [],
   "source": [
    "v_in = vin(para.p, R0, para.R_half, para.v_in_max)\n",
    "v_in.shape"
   ]
  },
  {
   "cell_type": "code",
   "execution_count": null,
   "metadata": {},
   "outputs": [],
   "source": [
    "para.D.shape"
   ]
  },
  {
   "cell_type": "code",
   "execution_count": null,
   "metadata": {},
   "outputs": [],
   "source": [
    "para.leaka"
   ]
  }
 ],
 "metadata": {
  "kernelspec": {
   "display_name": "fyp",
   "language": "python",
   "name": "python3"
  },
  "language_info": {
   "codemirror_mode": {
    "name": "ipython",
    "version": 3
   },
   "file_extension": ".py",
   "mimetype": "text/x-python",
   "name": "python",
   "nbconvert_exporter": "python",
   "pygments_lexer": "ipython3",
   "version": "3.10.9"
  },
  "orig_nbformat": 4
 },
 "nbformat": 4,
 "nbformat_minor": 2
}
