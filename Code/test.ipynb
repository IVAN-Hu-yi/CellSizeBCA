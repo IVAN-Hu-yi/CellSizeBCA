{
 "cells": [
  {
   "cell_type": "code",
   "execution_count": 2,
   "metadata": {},
   "outputs": [],
   "source": [
    "import numpy as np\n",
    "from initialisation import *"
   ]
  },
  {
   "cell_type": "code",
   "execution_count": 3,
   "metadata": {},
   "outputs": [],
   "source": [
    "N = 5\n",
    "M = 10"
   ]
  },
  {
   "cell_type": "code",
   "execution_count": 4,
   "metadata": {},
   "outputs": [],
   "source": [
    "vin = np.ones((N, M))\n",
    "mass = np.array([1, 2, 3, 4, 5])"
   ]
  },
  {
   "cell_type": "code",
   "execution_count": 5,
   "metadata": {},
   "outputs": [
    {
     "data": {
      "text/plain": [
       "array([[1., 1., 1., 1., 1., 1., 1., 1., 1., 1.],\n",
       "       [1., 1., 1., 1., 1., 1., 1., 1., 1., 1.],\n",
       "       [1., 1., 1., 1., 1., 1., 1., 1., 1., 1.],\n",
       "       [1., 1., 1., 1., 1., 1., 1., 1., 1., 1.],\n",
       "       [1., 1., 1., 1., 1., 1., 1., 1., 1., 1.]])"
      ]
     },
     "execution_count": 5,
     "metadata": {},
     "output_type": "execute_result"
    }
   ],
   "source": [
    "vin"
   ]
  },
  {
   "cell_type": "code",
   "execution_count": 6,
   "metadata": {},
   "outputs": [
    {
     "data": {
      "text/plain": [
       "array([[1, 2, 3, 4, 5]])"
      ]
     },
     "execution_count": 6,
     "metadata": {},
     "output_type": "execute_result"
    }
   ],
   "source": [
    "mass.reshape(5,1).T"
   ]
  },
  {
   "cell_type": "code",
   "execution_count": 7,
   "metadata": {},
   "outputs": [
    {
     "data": {
      "text/plain": [
       "array([[1., 1., 1., 1., 1., 1., 1., 1., 1., 1.],\n",
       "       [2., 2., 2., 2., 2., 2., 2., 2., 2., 2.],\n",
       "       [3., 3., 3., 3., 3., 3., 3., 3., 3., 3.],\n",
       "       [4., 4., 4., 4., 4., 4., 4., 4., 4., 4.],\n",
       "       [5., 5., 5., 5., 5., 5., 5., 5., 5., 5.]])"
      ]
     },
     "execution_count": 7,
     "metadata": {},
     "output_type": "execute_result"
    }
   ],
   "source": [
    "vin * mass[:, None]"
   ]
  },
  {
   "cell_type": "code",
   "execution_count": 8,
   "metadata": {},
   "outputs": [],
   "source": [
    "from size_scaled_func import *"
   ]
  },
  {
   "cell_type": "code",
   "execution_count": 9,
   "metadata": {},
   "outputs": [],
   "source": [
    "a = scale_vin(vin, mass, 0.5, -0.25)"
   ]
  },
  {
   "cell_type": "code",
   "execution_count": 10,
   "metadata": {},
   "outputs": [
    {
     "data": {
      "text/plain": [
       "array([[0.5       , 0.5       , 0.5       , 0.5       , 0.5       ,\n",
       "        0.5       , 0.5       , 0.5       , 0.5       , 0.5       ],\n",
       "       [0.42044821, 0.42044821, 0.42044821, 0.42044821, 0.42044821,\n",
       "        0.42044821, 0.42044821, 0.42044821, 0.42044821, 0.42044821],\n",
       "       [0.37991784, 0.37991784, 0.37991784, 0.37991784, 0.37991784,\n",
       "        0.37991784, 0.37991784, 0.37991784, 0.37991784, 0.37991784],\n",
       "       [0.35355339, 0.35355339, 0.35355339, 0.35355339, 0.35355339,\n",
       "        0.35355339, 0.35355339, 0.35355339, 0.35355339, 0.35355339],\n",
       "       [0.33437015, 0.33437015, 0.33437015, 0.33437015, 0.33437015,\n",
       "        0.33437015, 0.33437015, 0.33437015, 0.33437015, 0.33437015]])"
      ]
     },
     "execution_count": 10,
     "metadata": {},
     "output_type": "execute_result"
    }
   ],
   "source": [
    "a"
   ]
  },
  {
   "cell_type": "code",
   "execution_count": 11,
   "metadata": {},
   "outputs": [
    {
     "data": {
      "text/plain": [
       "array([[2.68795064],\n",
       "       [1.03459088],\n",
       "       [2.78688018],\n",
       "       [3.40661926],\n",
       "       [1.34377559]])"
      ]
     },
     "execution_count": 11,
     "metadata": {},
     "output_type": "execute_result"
    }
   ],
   "source": [
    "int_C(N, 2)"
   ]
  },
  {
   "cell_type": "code",
   "execution_count": 12,
   "metadata": {},
   "outputs": [
    {
     "data": {
      "text/plain": [
       "array([[21.25117263],\n",
       "       [31.71340202],\n",
       "       [35.76517901],\n",
       "       [28.73781982],\n",
       "       [34.90660393],\n",
       "       [32.57109421],\n",
       "       [31.10589835],\n",
       "       [24.64978335],\n",
       "       [29.05252085],\n",
       "       [31.27500722]])"
      ]
     },
     "execution_count": 12,
     "metadata": {},
     "output_type": "execute_result"
    }
   ],
   "source": [
    "int_R(M, 30)"
   ]
  },
  {
   "cell_type": "code",
   "execution_count": 13,
   "metadata": {},
   "outputs": [
    {
     "name": "stdout",
     "output_type": "stream",
     "text": [
      "[[0.001 0.001 0.001 0.001 0.001 0.001 0.001 0.001 0.001 0.001]\n",
      " [0.001 0.001 0.001 0.001 0.001 0.001 0.001 0.001 0.001 0.001]\n",
      " [0.001 0.001 0.001 0.001 0.001 0.001 0.001 0.001 0.001 0.001]\n",
      " [0.001 0.001 0.001 0.001 0.001 0.001 0.001 0.001 0.001 0.001]\n",
      " [0.001 0.001 0.001 0.001 0.001 0.001 0.001 0.001 0.001 0.001]]\n"
     ]
    },
    {
     "data": {
      "text/plain": [
       "array([[0.0090282 , 0.0090282 , 0.0090282 , 0.0090282 , 0.0090282 ,\n",
       "        0.9187462 , 0.0090282 , 0.0090282 , 0.0090282 , 0.0090282 ],\n",
       "       [0.0090396 , 0.0090396 , 0.0090396 , 0.0090396 , 0.0090396 ,\n",
       "        0.91864359, 0.0090396 , 0.0090396 , 0.0090396 , 0.0090396 ],\n",
       "       [0.00920952, 0.00920952, 0.00920952, 0.00920952, 0.00920952,\n",
       "        0.00920952, 0.00920952, 0.00920952, 0.91711428, 0.00920952],\n",
       "       [0.0090262 , 0.0090262 , 0.0090262 , 0.0090262 , 0.0090262 ,\n",
       "        0.0090262 , 0.0090262 , 0.0090262 , 0.91876423, 0.0090262 ],\n",
       "       [0.00917006, 0.00917006, 0.00917006, 0.00917006, 0.00917006,\n",
       "        0.00917006, 0.00917006, 0.91746948, 0.00917006, 0.00917006]])"
      ]
     },
     "execution_count": 13,
     "metadata": {},
     "output_type": "execute_result"
    }
   ],
   "source": [
    "int_preferences(N, M, 0.1, 0.001)"
   ]
  },
  {
   "cell_type": "code",
   "execution_count": 27,
   "metadata": {},
   "outputs": [],
   "source": [
    "D = np.array(\n",
    "    [\n",
    "    [1, 2, 3, 4, 5], \n",
    "    [2, 3, 4, 5, 6]\n",
    "    ]\n",
    ")\n",
    "sum = np.sum(D, axis=0)"
   ]
  },
  {
   "cell_type": "code",
   "execution_count": 29,
   "metadata": {},
   "outputs": [
    {
     "data": {
      "text/plain": [
       "array([[0.33333333, 0.4       , 0.42857143, 0.44444444, 0.45454545],\n",
       "       [0.66666667, 0.6       , 0.57142857, 0.55555556, 0.54545455]])"
      ]
     },
     "execution_count": 29,
     "metadata": {},
     "output_type": "execute_result"
    }
   ],
   "source": [
    "D/sum[np.newaxis, :]"
   ]
  },
  {
   "cell_type": "code",
   "execution_count": 30,
   "metadata": {},
   "outputs": [
    {
     "data": {
      "text/plain": [
       "array([ 3,  5,  7,  9, 11])"
      ]
     },
     "execution_count": 30,
     "metadata": {},
     "output_type": "execute_result"
    }
   ],
   "source": [
    "sum"
   ]
  },
  {
   "cell_type": "code",
   "execution_count": 26,
   "metadata": {},
   "outputs": [
    {
     "data": {
      "text/plain": [
       "array([0.06666667, 0.13333333, 0.2       , 0.26666667, 0.33333333])"
      ]
     },
     "execution_count": 26,
     "metadata": {},
     "output_type": "execute_result"
    }
   ],
   "source": [
    "D[0, :]/sum[0]"
   ]
  }
 ],
 "metadata": {
  "kernelspec": {
   "display_name": "fyp",
   "language": "python",
   "name": "python3"
  },
  "language_info": {
   "codemirror_mode": {
    "name": "ipython",
    "version": 3
   },
   "file_extension": ".py",
   "mimetype": "text/x-python",
   "name": "python",
   "nbconvert_exporter": "python",
   "pygments_lexer": "ipython3",
   "version": "3.10.9"
  },
  "orig_nbformat": 4
 },
 "nbformat": 4,
 "nbformat_minor": 2
}
