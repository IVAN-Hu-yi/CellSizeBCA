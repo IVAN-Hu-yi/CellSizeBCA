{
 "cells": [
  {
   "cell_type": "code",
   "execution_count": 1,
   "metadata": {},
   "outputs": [],
   "source": [
    "import numpy as np\n",
    "\n",
    "def int_R(M): \n",
    "    return np.array([40]*M)"
   ]
  },
  {
   "cell_type": "code",
   "execution_count": 3,
   "metadata": {},
   "outputs": [
    {
     "data": {
      "text/plain": [
       "array([5.12873012, 1.39707607, 1.00759084, 2.80385778, 1.52379454,\n",
       "       1.61625052, 1.67260762, 1.58707776, 3.54368116, 3.6525874 ])"
      ]
     },
     "execution_count": 3,
     "metadata": {},
     "output_type": "execute_result"
    }
   ],
   "source": [
    "def int_C(N, w):\n",
    "    '''\n",
    "        Biomass Content drawn from beta distribution at t0\n",
    "    '''\n",
    "    return 10 ** np.random.beta(1, w, N)\n",
    "\n",
    "int_C(10, 2)"
   ]
  }
 ],
 "metadata": {
  "kernelspec": {
   "display_name": "fyp",
   "language": "python",
   "name": "python3"
  },
  "language_info": {
   "codemirror_mode": {
    "name": "ipython",
    "version": 3
   },
   "file_extension": ".py",
   "mimetype": "text/x-python",
   "name": "python",
   "nbconvert_exporter": "python",
   "pygments_lexer": "ipython3",
   "version": "3.10.9"
  },
  "orig_nbformat": 4
 },
 "nbformat": 4,
 "nbformat_minor": 2
}
