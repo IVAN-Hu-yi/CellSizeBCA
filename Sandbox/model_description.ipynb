{
 "cells": [
  {
   "attachments": {},
   "cell_type": "markdown",
   "metadata": {},
   "source": [
    "# Effect of body mass on relative abundance and composition\n",
    "\n",
    "## Microbial Consumer-Resource Model (MiCRM)\n"
   ]
  },
  {
   "attachments": {},
   "cell_type": "markdown",
   "metadata": {},
   "source": [
    "We adopt a MiCRM from [Marsland, 2019](https://journals.plos.org/ploscompbiol/article?id=10.1371/journal.pcbi.1006793) based on early work of [MacArthur R](https://doi.org/10.1016/0040-5809(70)90039-0). Assuming there are $N$ species and $M$ types of resouces, the dynamics of population size $S_i$ of species $i$ and resource concentration $R_{\\alpha}$ of type $\\alpha$ is as follwed:\n",
    "\n",
    "$$ \\tag{1} \\frac{dS_i}{dt} = g_i S_i J^{re}_i $$\n",
    "\n",
    "$$ \\tag{2} \\frac{dR_{\\alpha}}{dt} = h_{\\alpha} + \\sum_{j=1}^N S_j (v^{out}_{j\\alpha} - v^{in}_{j\\alpha}) $$"
   ]
  },
  {
   "attachments": {},
   "cell_type": "markdown",
   "metadata": {},
   "source": [
    "where $J_i^{re}$ is the energy required to support cellular division, and will be calculated based on:\n",
    "\n",
    "$$ \\tag{3} J^{inu}_{i} = J^{re}_i + J_i^{mt} + J_i^{grow}$$\n",
    "$$ \\tag{4} J^{inu}_{i} = \\sum^{M}_{\\alpha=1} (1-l_{\\alpha}) J_{i\\alpha}^{in} $$"
   ]
  },
  {
   "attachments": {},
   "cell_type": "markdown",
   "metadata": {},
   "source": [
    "The above conditions state that the total energy untilised by the cell of species $i$ for metabolism per unit time, $J^{inu}_{i}$, is partitioned into three categories: energy for reproduction $J^{re}_{i}$, maintanence $J^{mt}_{i}$ and growth $J^{grow}_{i}$. This quantity is defined by the fraction ($l_\\alpha$) of total uptake of energy from all types of resources ($J^{in}_{i\\alpha}, \\alpha = 1, 2, 3, ..., M$), which is returned to the environment, from Eq.4. "
   ]
  },
  {
   "attachments": {},
   "cell_type": "markdown",
   "metadata": {},
   "source": [
    "The total uptake of energy, $J^{in}_{i\\alpha} (\\alpha = 1, 2, 3, ..., M)$, depends on resource concentration $R_\\alpha$, resource preference ($c_{i\\alpha}$) for each species and resource type, size (discussed in the next section, now only consider resource):\n",
    "\n",
    "\n",
    "$$ \\tag{5}\n",
    "J_{i\\alpha}^{in} = w_{\\alpha} \\sigma(c_{i\\alpha}R_{\\alpha}) \n",
    "$$\n",
    "\n",
    "where $\\sigma$ maps the resource concentration available to the rate of resource uptake (mass per unit time), which can be either type I linear response or type II Monod response. $w_{\\alpha}$ denotes energy density (energy per unit mass)."
   ]
  },
  {
   "attachments": {},
   "cell_type": "markdown",
   "metadata": {},
   "source": [
    "The fraction of energy returned to the environment can be treated as leakage/secrection of metabolitic end products to the environment. Assuming all species of concerns have similar core metabolism, the fraction of leaked energy from resource $\\alpha$ released in the form of resource $\\beta$ is $D_{\\beta \\alpha}$, where $D$ is a $M \\times M$ matrix. Hence, the energy output from resource $\\alpha$, $J^{out}_{i\\alpha}$, and the resource $\\alpha$ secreted by a species $i$ is \n",
    "\n",
    "$$ \\tag{6}\n",
    "J^{out}_{i\\alpha} = \\sum_{\\beta = 1}^M D_{\\alpha\\beta} l_{\\beta} J^{in}_{i\\beta}\n",
    "$$\n",
    "\n",
    "$$ \\tag{7}\n",
    "\n",
    "v^{out}_{i\\alpha} = \\frac{J^{out}_{i\\alpha}}{w_{\\alpha}} = \\frac{\\sum_{\\beta = 1}^M D_{\\alpha\\beta} l_{\\beta} J^{in}_{i\\beta}}{w_{\\alpha}}\n",
    "\n",
    "$$\n",
    "\n",
    "while the resource $\\alpha$ uptake rate $v^{in}_{i\\alpha} = \\sigma(c_{i\\alpha}R_{\\alpha})$. "
   ]
  },
  {
   "attachments": {},
   "cell_type": "markdown",
   "metadata": {},
   "source": [
    "## Size Parametrization"
   ]
  },
  {
   "attachments": {},
   "cell_type": "markdown",
   "metadata": {},
   "source": [
    "### Modelling Size"
   ]
  },
  {
   "attachments": {},
   "cell_type": "markdown",
   "metadata": {},
   "source": [
    "Suppose a size distribution across each species is binned into $K$ bins so that only individual body size can only be allocated to one of those bins. Here we construct a markov chain with each state as a size bin $k_i$. Each state has a population vector, $X_{m_{k}}(t)$, of size $N$ associated, describing the number of individuals in each species. See below:\n",
    "\n",
    "\n",
    "<center><img src=\"..\\Data\\Markov_model.png\"/></center>\n"
   ]
  },
  {
   "attachments": {},
   "cell_type": "markdown",
   "metadata": {},
   "source": [
    "And we assume that, for each time step, the increase in body size ($\\delta m$) is constant and the probablity of **growing** in the next time step can be described as the transition probability from state $m_{k}$ to state $m_{k+1}$ : \n",
    "\n",
    "$$ \\tag{8}\n",
    "\n",
    "P(growth) = P(m + \\delta m) = P(s_{t+1} = m_{k_{i+1}} | s_{t} = m_{k_i}) = p_{k_i k_{i+1}}\n",
    "\n",
    "$$"
   ]
  },
  {
   "attachments": {},
   "cell_type": "markdown",
   "metadata": {},
   "source": [
    "Here we also assume that for each division, the cell will lose a body mass of body mass $m_0$, giving birth of an new individual cell with size $m_0$. Suppose $m_k = m_{k+n} - m_0 $, then the probability of **division** is equivalent to the probability of losing body mass of $m_0$, as described by:\n",
    "\n",
    "$$ \\tag{9}\n",
    "\n",
    "P(division) = P(s_{t+1} = m_{k} | s_t = m_{k+n} ) \n",
    "\n",
    "$$"
   ]
  },
  {
   "attachments": {},
   "cell_type": "markdown",
   "metadata": {},
   "source": [
    "We also assume that for every cell in every possible state, there is a probability of death which is dependent on the cell size, as"
   ]
  },
  {
   "attachments": {},
   "cell_type": "markdown",
   "metadata": {},
   "source": [
    "Based on the assumptions that, (1) metabolic energy devoted into maintanence is proportional to the individual body mass; (2) metabolic energy devoted into cell growth is proportional to the rate of change of body mass; (3) A sufficiently large population size for every species so that individual body mass can be estimated as the mean body mass; as reported in [kempes et al, 2011](http://www.pnas.org/cgi/doi/10.1073/pnas.1115585109)."
   ]
  },
  {
   "attachments": {},
   "cell_type": "markdown",
   "metadata": {},
   "source": [
    "$$ \\tag{8}\n",
    "J_i^{mt} = k_{mt} S_i \\hat m\n",
    "$$\n",
    "\n",
    "$$ \\tag{9}\n",
    "J_i^{grow} = k_{g} S_i \\frac{d\\hat m}{dt}\n",
    "$$"
   ]
  },
  {
   "cell_type": "markdown",
   "metadata": {},
   "source": []
  }
 ],
 "metadata": {
  "kernelspec": {
   "display_name": "fyp",
   "language": "python",
   "name": "python3"
  },
  "language_info": {
   "name": "python",
   "version": "3.10.9"
  },
  "orig_nbformat": 4
 },
 "nbformat": 4,
 "nbformat_minor": 2
}
