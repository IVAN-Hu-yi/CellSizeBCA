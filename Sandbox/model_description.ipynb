{
 "cells": [
  {
   "attachments": {},
   "cell_type": "markdown",
   "metadata": {},
   "source": [
    "# Effect of body mass on relative abundance and composition\n",
    "\n",
    "## Microbial Consumer-Resource Model (MiCRM)\n"
   ]
  },
  {
   "attachments": {},
   "cell_type": "markdown",
   "metadata": {},
   "source": [
    "We adopt a MiCRM from [Marsland, 2019](https://journals.plos.org/ploscompbiol/article?id=10.1371/journal.pcbi.1006793) based on early work of [MacArthur R](https://doi.org/10.1016/0040-5809(70)90039-0). Assuming there are $N$ species and $M$ types of resouces,  resource concentration $R_{\\alpha}$ of type $\\alpha$ is as follwed:\n",
    "\n",
    "\n",
    "\n",
    "$$ \\tag{2} \\frac{dR_{\\alpha}}{dt} = h_{\\alpha} + \\sum_{j=1}^N S_j (v^{out}_{j\\alpha} - v^{in}_{j\\alpha}) $$"
   ]
  },
  {
   "attachments": {},
   "cell_type": "markdown",
   "metadata": {},
   "source": [
    "where $J_i^{re}$ is the energy required to support cellular division, and will be calculated based on:\n",
    "\n",
    "$$ \\tag{3} J^{inu}_{i} = J^{re}_i + J_i^{mt} + J_i^{grow}$$\n",
    "$$ \\tag{4} J^{inu}_{i} = \\sum^{M}_{\\alpha=1} (1-l_{\\alpha}) J_{i\\alpha}^{in} $$"
   ]
  },
  {
   "attachments": {},
   "cell_type": "markdown",
   "metadata": {},
   "source": [
    "The above conditions state that the total energy untilised by the cell of species $i$ for metabolism per unit time, $J^{inu}_{i}$, is partitioned into three categories: energy for reproduction $J^{re}_{i}$, maintanence $J^{mt}_{i}$ and growth $J^{grow}_{i}$. This quantity is defined by the fraction ($l_\\alpha$) of total uptake of energy from all types of resources ($J^{in}_{i\\alpha}, \\alpha = 1, 2, 3, ..., M$), which is returned to the environment, from Eq.4. "
   ]
  },
  {
   "attachments": {},
   "cell_type": "markdown",
   "metadata": {},
   "source": [
    "The total uptake of energy, $J^{in}_{i\\alpha} (\\alpha = 1, 2, 3, ..., M)$, depends on resource concentration $R_\\alpha$, resource preference ($c_{i\\alpha}$) for each species and resource type, size (discussed in the next section, now only consider resource):\n",
    "\n",
    "\n",
    "$$ \\tag{5}\n",
    "J_{i\\alpha}^{in} = w_{\\alpha} \\sigma(c_{i\\alpha}R_{\\alpha}) \n",
    "$$\n",
    "\n",
    "where $\\sigma$ maps the resource concentration available to the rate of resource uptake (mass per unit time), which can be either type I linear response or type II Monod response. $w_{\\alpha}$ denotes energy density (energy per unit mass)."
   ]
  },
  {
   "attachments": {},
   "cell_type": "markdown",
   "metadata": {},
   "source": [
    "The fraction of energy returned to the environment can be treated as leakage/secrection of metabolitic end products to the environment. Assuming all species of concerns have similar core metabolism, the fraction of leaked energy from resource $\\alpha$ released in the form of resource $\\beta$ is $D_{\\beta \\alpha}$, where $D$ is a $M \\times M$ matrix. Hence, the energy output from resource $\\alpha$, $J^{out}_{i\\alpha}$, and the resource $\\alpha$ secreted by a species $i$ is \n",
    "\n",
    "$$ \\tag{6}\n",
    "J^{out}_{i\\alpha} = \\sum_{\\beta = 1}^M D_{\\alpha\\beta} l_{\\beta} J^{in}_{i\\beta}\n",
    "$$\n",
    "\n",
    "$$ \\tag{7}\n",
    "\n",
    "v^{out}_{i\\alpha} = \\frac{J^{out}_{i\\alpha}}{w_{\\alpha}} = \\frac{\\sum_{\\beta = 1}^M D_{\\alpha\\beta} l_{\\beta} J^{in}_{i\\beta}}{w_{\\alpha}}\n",
    "\n",
    "$$\n",
    "\n",
    "while the resource $\\alpha$ uptake rate $v^{in}_{i\\alpha} = \\sigma(c_{i\\alpha}R_{\\alpha})$. "
   ]
  },
  {
   "attachments": {},
   "cell_type": "markdown",
   "metadata": {},
   "source": [
    "## Size Parametrization"
   ]
  },
  {
   "attachments": {},
   "cell_type": "markdown",
   "metadata": {},
   "source": [
    "### Modelling Size"
   ]
  },
  {
   "attachments": {},
   "cell_type": "markdown",
   "metadata": {},
   "source": [
    "Suppose a size distribution across each species is binned into $K$ bins with a binwidth of $\\delta m$, so that only individual body size can only be allocated to one of those bins. Here we construct a markovian-like chain with each state as a size bin $k_i$. Each state has a population vector, $X_{m_{k}}(t)$, of size $N$ associated, describing the number of individuals in each species. See below:\n",
    "\n",
    "\n",
    "<center><img src=\"..\\Data\\Markov_model.png\"/></center>\n"
   ]
  },
  {
   "attachments": {},
   "cell_type": "markdown",
   "metadata": {},
   "source": [
    "And we assume that, for each time step, cell may grow by a constant $\\delta m$ and the probablity of **growing** at size bin $k$ can be described as the transition probability from state $m_{k}$ to state $m_{k+1}$ : \n",
    "\n",
    "$$ \\tag{8}\n",
    "\n",
    "P_k(growth) = P(m + \\delta m) = P(s_{t+1} = m_{k+1} | s_{t} = m_k) = p_{k,k+1}\n",
    "\n",
    "$$"
   ]
  },
  {
   "attachments": {},
   "cell_type": "markdown",
   "metadata": {},
   "source": [
    "Here we also assume that for each division, the cell will lose a body mass of body mass $m_0$, giving birth of an new individual cell with size $m_0$. Suppose $m_k = m_{k+n} - m_0 $, then the probability of **division** is equivalent to the probability of losing body mass of $m_0$, as described by:\n",
    "\n",
    "$$ \\tag{9}\n",
    "\n",
    "P_{k+n}(division) = P(s_{t+1} = m_{k} | s_t = m_{k+n} ) \n",
    "\n",
    "$$"
   ]
  },
  {
   "attachments": {},
   "cell_type": "markdown",
   "metadata": {},
   "source": [
    "We also assume that for every cell in every possible state, there is a probability of **death** which is dependent on the cell size, as the size increases, the cost maintainence increases so that the resource uptake cannot keep up and therefore leading to death. \n",
    "\n",
    "$$ \\tag{10}\n",
    "\n",
    "P_k(death) = P(s_{t+1} = D | s_t = m_k)\n",
    "\n",
    "$$"
   ]
  },
  {
   "attachments": {},
   "cell_type": "markdown",
   "metadata": {},
   "source": [
    "However, some cells may **stop cellular growth** and **division** and stay in the same state $m_k$, described by:\n",
    "$$\\tag{11}\n",
    "P_k(maintain) = P(s_{t+1} = m_k | s_{t} = m_k)\n",
    "$$"
   ]
  },
  {
   "attachments": {},
   "cell_type": "markdown",
   "metadata": {},
   "source": [
    "### Evaluating transition probablities"
   ]
  },
  {
   "attachments": {},
   "cell_type": "markdown",
   "metadata": {},
   "source": [
    "Based on the assumptions that, (1) metabolic energy required for maintanence is proportional to the individual body mass; (2) metabolic energy devoted for cell growth is proportional to the rate of change of body mass; as reported in [kempes et al, 2011](http://www.pnas.org/cgi/doi/10.1073/pnas.1115585109). For individuals species $i$ at bin $k$, the total energy required for maintanence and growth are"
   ]
  },
  {
   "attachments": {},
   "cell_type": "markdown",
   "metadata": {},
   "source": [
    "$$ \\tag{12}\n",
    "J_{ki}^{mt} = X_k[i] k_{mt} m_k\n",
    "$$\n",
    "\n",
    "$$ \\tag{13}\n",
    "J_{ki}^{grow} = X_k[i] k_{g} \\delta m\n",
    "$$\n",
    "\n",
    "Similarly, the metabolic energy requried to synthesize a new orgnism with size $m_0$ is:\n",
    "$$ \\tag{14}\n",
    "J_{ki}^{re} = X_k[i] k_g m_0\n",
    "$$"
   ]
  },
  {
   "attachments": {},
   "cell_type": "markdown",
   "metadata": {},
   "source": [
    "Moreover, the fraction of total acquired metabolic energy being allocated to maintenance, growth and reproduction, can be calculated from a modified version of Eq.5 in [kempes et al, 2011](http://www.pnas.org/cgi/doi/10.1073/pnas.1115585109) as follow:\n",
    "\n",
    "$$ \\tag{15}\n",
    "\n",
    "1 = \\frac{k_{g}}{B_0 m_k^{\\gamma}} \\delta m + \\frac{k_{mt}}{B_0} m_k^{1-\\gamma} + \\frac{k_{re}}{B_0} m_0^{1-\\gamma}\n",
    "\n",
    "$$\n",
    "\n",
    "where $ B_0 $ accounts for size-normalized metabolism and includes temperature dependence."
   ]
  },
  {
   "attachments": {},
   "cell_type": "markdown",
   "metadata": {},
   "source": [
    "For each size bin $k$ and each species $i$, if $J^{mt}_i > J^{inu}_i$ (i.e., maintainence requirement is larger than the total intake energy), the probability of death consists of the death due to chance (first term) and the death due to insufficient energy (second term), hence the following\n",
    "\n",
    "$$ \\tag{15} \n",
    "\n",
    "\n",
    "P_{ik}(death) = d_i (1-\\frac{J^{mt}_i - J^{inu}_i}{J^{mt}_i}) + \\frac{J^{mt}_i-J^{inu}_i}{J^{mt}_i} = (\\frac{J^{inu}_i}{J^{mt}_i})d_i + \\frac{J^{mt}_i-J^{inu}_i}{J^{mt}_i}\n",
    "\n",
    "\n",
    "$$\n",
    "\n",
    "This equation has an assumption that the difference between energy requirement for maintainance and intake must be smaller than the maintaince energy. If this assumption is violated, we assume that no cell can gain enough energy for maintainence and therefore all cells will be die. In contrast, if $J^{mt}_i > J^{inu}_i$ (i.e, there is an excess of energy available for cellular growth and reproduction), hence the probablity of death will be just due to chance, characterised by the intrinsic death rate $d_i$.\n",
    "\n",
    "\n"
   ]
  },
  {
   "attachments": {},
   "cell_type": "markdown",
   "metadata": {},
   "source": [
    "$$ \\tag{16} \n",
    "\n",
    " P_{ik}(death) = \\begin{cases}\n",
    "\n",
    "(\\frac{J^{inu}_i}{J^{mt}_i})d + \\frac{J^{mt}_i-J^{inu}_i}{J^{mt}} &\\text{, if }  J^{mt}_i > J^{mt}_i - J^{inu}_i > 0;\\\\\n",
    "\n",
    "1 &\\text{, if } J^{mt}_i < J^{mt}_i - J^{inu}_i; \\\\\n",
    "\n",
    "d_i &\\text{, if } J^{mt}_i < J^{inu}_i.\n",
    "\\end{cases}\n",
    "\n",
    "$$"
   ]
  },
  {
   "attachments": {},
   "cell_type": "markdown",
   "metadata": {},
   "source": [
    "Next, we consider the probability of growing and division in these conditions. If we assume only cells that could maintain itself "
   ]
  }
 ],
 "metadata": {
  "kernelspec": {
   "display_name": "fyp",
   "language": "python",
   "name": "python3"
  },
  "language_info": {
   "name": "python",
   "version": "3.10.9"
  },
  "orig_nbformat": 4
 },
 "nbformat": 4,
 "nbformat_minor": 2
}
